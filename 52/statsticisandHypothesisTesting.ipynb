{
 "cells": [
  {
   "cell_type": "code",
   "execution_count": null,
   "id": "9cefe0c1",
   "metadata": {},
   "outputs": [
    {
     "name": "stdout",
     "output_type": "stream",
     "text": [
      "Index(['EmployeeID', 'gender', 'department', 'Days Present',\n",
      "       'Accuracy of Work', 'Meeting Project Deadlines',\n",
      "       'Task_Completion_Rates', 'Interpersonal Skills Rating',\n",
      "       'Decision-Making Skills Rating', 'Sales Revenue Generated', 'churned'],\n",
      "      dtype='object')\n",
      "P-value: 2.2746688806072735e-23\n"
     ]
    }
   ],
   "source": [
    "# One sample t-test\n",
    "import pandas as pd\n",
    "import matplotlib.pyplot as plt\n",
    "import seaborn as sns\n",
    "from scipy import stats\n",
    "\n",
    "data = pd.read_excel('practice_data.xlsx')\n",
    "\n",
    "\n",
    "hypothesis_mean = 68\n",
    "t_statistic, p_value = stats.ttest_1samp(data['Sales Revenue Generated'], hypothesis_mean)\n",
    "print(\"P-value:\", p_value)"
   ]
  },
  {
   "cell_type": "code",
   "execution_count": 10,
   "id": "7ca90e13",
   "metadata": {},
   "outputs": [
    {
     "name": "stdout",
     "output_type": "stream",
     "text": [
      "P value:  0.57\n"
     ]
    }
   ],
   "source": [
    "# Independent sample t-test\n",
    "import pandas as pd\n",
    "import matplotlib.pyplot as plt\n",
    "import seaborn as sns\n",
    "from scipy import stats\n",
    "\n",
    "data = pd.read_excel('practice_data.xlsx')\n",
    "\n",
    "data.columns\n",
    "\n",
    "churned_employee = data[data['churned'] == \"Yes\"]['Sales Revenue Generated']\n",
    "existing_employee = data[data['churned'] == \"No\"]['Sales Revenue Generated']\n",
    "\n",
    "t_stat, p_value = stats.ttest_ind(churned_employee, existing_employee)\n",
    "print(\"P value: \", round(p_value, 2))"
   ]
  }
 ],
 "metadata": {
  "kernelspec": {
   "display_name": "Python 3",
   "language": "python",
   "name": "python3"
  },
  "language_info": {
   "codemirror_mode": {
    "name": "ipython",
    "version": 3
   },
   "file_extension": ".py",
   "mimetype": "text/x-python",
   "name": "python",
   "nbconvert_exporter": "python",
   "pygments_lexer": "ipython3",
   "version": "3.13.5"
  }
 },
 "nbformat": 4,
 "nbformat_minor": 5
}
