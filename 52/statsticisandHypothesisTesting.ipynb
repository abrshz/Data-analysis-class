{
 "cells": [
  {
   "cell_type": "code",
   "execution_count": 2,
   "id": "9cefe0c1",
   "metadata": {},
   "outputs": [
    {
     "name": "stdout",
     "output_type": "stream",
     "text": [
      "P-value: 2.2746688806072735e-23\n"
     ]
    }
   ],
   "source": [
    "# One sample t-test\n",
    "import pandas as pd\n",
    "import matplotlib.pyplot as plt\n",
    "import seaborn as sns\n",
    "from scipy import stats\n",
    "\n",
    "data = pd.read_excel('practice_data.xlsx')\n",
    "\n",
    "hypothesis_mean = 68\n",
    "t_statistic, p_value = stats.ttest_1samp(data['Sales Revenue Generated'], hypothesis_mean)\n",
    "print(\"P-value:\", p_value)"
   ]
  }
 ],
 "metadata": {
  "kernelspec": {
   "display_name": "Python 3",
   "language": "python",
   "name": "python3"
  },
  "language_info": {
   "codemirror_mode": {
    "name": "ipython",
    "version": 3
   },
   "file_extension": ".py",
   "mimetype": "text/x-python",
   "name": "python",
   "nbconvert_exporter": "python",
   "pygments_lexer": "ipython3",
   "version": "3.13.5"
  }
 },
 "nbformat": 4,
 "nbformat_minor": 5
}
